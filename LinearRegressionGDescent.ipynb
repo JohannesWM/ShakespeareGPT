{
 "cells": [
  {
   "cell_type": "code",
   "id": "initial_id",
   "metadata": {
    "collapsed": true
   },
   "source": [
    "\"\"\"\n",
    "Johannes's Simple NN.\n",
    "\n",
    "Architecture: Input Neuron -> Hidden Neuron -> Output Neuron\n",
    "\"\"\""
   ],
   "outputs": [],
   "execution_count": null
  },
  {
   "metadata": {},
   "cell_type": "code",
   "source": [
    "import numpy as np\n",
    "import random\n",
    "import math\n",
    "\n",
    "np.random.seed(1)\n",
    "random.seed(1)\n",
    "\n",
    "training_equation = lambda x: 2*x\n",
    "x = 3 # input\n",
    "val = 6 # expected output for input\n",
    "w = -5 # weight\n",
    "\n",
    "def loss(x, y): # calculating the squared residual of the system's predictions\n",
    "  return (y-x)**2\n",
    "\n",
    "def forward(x): # the system predicting\n",
    "  return w*x\n",
    "\n",
    "def derive(x, y): # calculating the derivative of the loss function with respect to w\n",
    "  return float((loss((w + 0.0000000001)*x, y) - loss(w*x, y))/(0.0000000001))\n",
    "\n",
    "linear_data = lambda a, x: a*x\n",
    "\n",
    "def data_gen(gen_func, a: int, samples: list, noise) -> list:\n",
    "  training_data = [gen_func(a, x) for x in samples]\n",
    "  training_data = noise(training_data)\n",
    "  return training_data\n",
    "\n",
    "def noiseify(data: list):\n",
    "  noisy = [truncate(x - random.uniform(-10, 4), 2) for x in data]\n",
    "  return noisy\n",
    "\n",
    "def truncate(number, digits):\n",
    "    return math.trunc(number * 10**digits) / 10**digits\n",
    "\n",
    "# training_data = data_gen(linear_data, 2, np.random.randint(1, 20, 100).tolist(), noiseify)\n",
    "training_data = data_gen(linear_data, 2, np.arange(0, 20).tolist(), noiseify)\n"
   ],
   "id": "13251ce2a7bb0076",
   "outputs": [],
   "execution_count": null
  },
  {
   "metadata": {},
   "cell_type": "code",
   "source": [
    "loss_list = [loss(forward(i), x) for i, x in enumerate(training_data)]\n",
    "\n",
    "while np.average(loss_list) > 22.565:\n",
    "  derivative_list = [derive(i, x) for i, x in enumerate(training_data)]\n",
    "  sign = -1 * np.average(derivative_list) * np.abs((1/np.average(derivative_list)))\n",
    "  loss_list = [loss(forward(i), x) for i, x in enumerate(training_data)]\n",
    "  avg_loss = np.average(loss_list)\n",
    "  print(f\"The value of the average loss is {avg_loss}\")\n",
    "\n",
    "  w = w + sign*0.001\n",
    "\n",
    "print(f\"The value of W is: {w}\")\n"
   ],
   "id": "84ceda52046352b9",
   "outputs": [],
   "execution_count": null
  },
  {
   "metadata": {},
   "cell_type": "code",
   "source": "",
   "id": "cb52c8d18d33b797",
   "outputs": [],
   "execution_count": null
  }
 ],
 "metadata": {
  "kernelspec": {
   "display_name": "Python 3",
   "language": "python",
   "name": "python3"
  },
  "language_info": {
   "codemirror_mode": {
    "name": "ipython",
    "version": 2
   },
   "file_extension": ".py",
   "mimetype": "text/x-python",
   "name": "python",
   "nbconvert_exporter": "python",
   "pygments_lexer": "ipython2",
   "version": "2.7.6"
  }
 },
 "nbformat": 4,
 "nbformat_minor": 5
}
